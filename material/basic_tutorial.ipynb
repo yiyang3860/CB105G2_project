{
 "cells": [
  {
   "cell_type": "code",
   "execution_count": null,
   "metadata": {},
   "outputs": [],
   "source": [
    "'''\n",
    "創建變數\n",
    "\n",
    "example \n",
    "\n",
    "iAmIntegerVariable = 1\n",
    "\n",
    "iAmStringVariable = \"hello i am string\"\n",
    "\n",
    "'''"
   ]
  },
  {
   "cell_type": "code",
   "execution_count": null,
   "metadata": {},
   "outputs": [],
   "source": [
    "'''\n",
    "\n",
    "練習\n",
    "\n",
    "'''"
   ]
  },
  {
   "cell_type": "code",
   "execution_count": null,
   "metadata": {},
   "outputs": [],
   "source": [
    "'''\n",
    "\n",
    "引用套件\n",
    "\n",
    "套件可以假想成是別人做好的便利工具包\n",
    "\n",
    "import requests\n",
    "\n",
    "from flask import Flask\n",
    "\n",
    "'''"
   ]
  },
  {
   "cell_type": "code",
   "execution_count": null,
   "metadata": {},
   "outputs": [],
   "source": [
    "'''\n",
    "\n",
    "練習\n",
    "\n",
    "嘗試安裝一個套件，並import\n",
    "\n",
    "'''"
   ]
  },
  {
   "cell_type": "code",
   "execution_count": null,
   "metadata": {},
   "outputs": [],
   "source": [
    "# 安裝套件之範例\n",
    "!pip install examplePackage"
   ]
  },
  {
   "cell_type": "code",
   "execution_count": null,
   "metadata": {},
   "outputs": [],
   "source": [
    "'''\n",
    "迴圈\n",
    "\n",
    "寫程式可以處理大量有pattern的事情，此刻便會探討到迴圈的概念\n",
    "\n",
    "for loop \n",
    "\n",
    "for x in range(0, 3):\n",
    "    print(x)\n",
    "\n",
    "'''\n"
   ]
  },
  {
   "cell_type": "code",
   "execution_count": null,
   "metadata": {},
   "outputs": [],
   "source": [
    "'''\n",
    "\n",
    "創造類別\n",
    "\n",
    "class Animal():\n",
    "    def __init__(self, name):\n",
    "        self.name = name\n",
    "\n",
    "'''\n",
    "\n",
    "class Animal():\n",
    "    def __init__(self, name):\n",
    "        self.name = name"
   ]
  },
  {
   "cell_type": "code",
   "execution_count": null,
   "metadata": {},
   "outputs": [],
   "source": [
    "'''\n",
    "\n",
    "使用此類別創造變數\n",
    "\n",
    "'''\n",
    "\n",
    "iAmAnimal = Animal(\"小明\")\n",
    "\n",
    "print(iAmAnimal.name)"
   ]
  },
  {
   "cell_type": "code",
   "execution_count": null,
   "metadata": {},
   "outputs": [],
   "source": [
    "'''\n",
    "練習\n",
    "\n",
    "創造一個Person類別\n",
    "\n",
    "裡面必須要有 姓名屬性(name) 年齡屬性（age）\n",
    "\n",
    "並用此類別創造一個實體\n",
    "\n",
    "'''"
   ]
  }
 ],
 "metadata": {
  "kernelspec": {
   "display_name": "Python 3",
   "language": "python",
   "name": "python3"
  },
  "language_info": {
   "codemirror_mode": {
    "name": "ipython",
    "version": 3
   },
   "file_extension": ".py",
   "mimetype": "text/x-python",
   "name": "python",
   "nbconvert_exporter": "python",
   "pygments_lexer": "ipython3",
   "version": "3.7.1"
  }
 },
 "nbformat": 4,
 "nbformat_minor": 2
}
