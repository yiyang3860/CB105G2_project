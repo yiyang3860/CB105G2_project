{
 "cells": [
  {
   "cell_type": "code",
   "execution_count": 1,
   "metadata": {},
   "outputs": [
    {
     "data": {
      "text/plain": [
       "'\\n\\n當用戶輸入特定文字消息時，會啟用快速回覆功能。\\n\\n此功能，可讓用戶直接透過點擊按鈕的方式，對問題進行多種既定答案的回覆。\\n\\n'"
      ]
     },
     "execution_count": 1,
     "metadata": {},
     "output_type": "execute_result"
    }
   ],
   "source": [
    "'''\n",
    "\n",
    "當用戶輸入特定文字消息時，會啟用快速回覆功能。\n",
    "\n",
    "此功能，可讓用戶直接透過點擊按鈕的方式，對問題進行多種既定答案的回覆。\n",
    "\n",
    "'''"
   ]
  },
  {
   "cell_type": "code",
   "execution_count": 2,
   "metadata": {},
   "outputs": [],
   "source": [
    "\"\"\"\n",
    "\n",
    "啟用伺服器基本樣板\n",
    "\n",
    "\"\"\"\n",
    "# 引用Web Server套件\n",
    "from flask import Flask, request, abort\n",
    "\n",
    "# 從linebot 套件包裡引用 LineBotApi 與 WebhookHandler 類別\n",
    "from linebot import (\n",
    "    LineBotApi, WebhookHandler\n",
    ")\n",
    "\n",
    "# \n",
    "from linebot.exceptions import (\n",
    "    InvalidSignatureError\n",
    ")\n",
    "\n",
    "# 將消息模型，文字收取消息與文字寄發消息 引入\n",
    "from linebot.models import (\n",
    "    MessageEvent, TextMessage, TextSendMessage,\n",
    ")\n",
    "\n",
    "# 載入設定檔\n",
    "\n",
    "import json\n",
    "secretFileContentJson=json.load(open(\"../line_secret_key\",'r'))\n",
    "server_url=secretFileContentJson.get(\"server_url\")\n",
    "\n",
    "\n",
    "# 設定Server啟用細節\n",
    "app = Flask(__name__,static_url_path = \"/images\" , static_folder = \"../images/\" )\n",
    "\n",
    "# 生成實體物件\n",
    "line_bot_api = LineBotApi(secretFileContentJson.get(\"channel_access_token\"))\n",
    "handler = WebhookHandler(secretFileContentJson.get(\"secret_key\"))\n",
    "\n",
    "# 啟動server對外接口，使Line能丟消息進來\n",
    "@app.route(\"/\", methods=['POST'])\n",
    "def callback():\n",
    "    # get X-Line-Signature header value\n",
    "    signature = request.headers['X-Line-Signature']\n",
    "\n",
    "    # get request body as text\n",
    "    body = request.get_data(as_text=True)\n",
    "    app.logger.info(\"Request body: \" + body)\n",
    "\n",
    "    # handle webhook body\n",
    "    try:\n",
    "        handler.handle(body, signature)\n",
    "    except InvalidSignatureError:\n",
    "        abort(400)\n",
    "\n",
    "    return 'OK'\n"
   ]
  },
  {
   "cell_type": "code",
   "execution_count": 3,
   "metadata": {},
   "outputs": [
    {
     "data": {
      "text/plain": [
       "'\\nQuickReply篇\\n\\n使用流程\\n\\n準備QuickReply的Button\\n\\n以QuickReply封裝該些QuickReply Button\\n\\n製作TextSendMessage，並將剛封裝的QuickReply放入\\n\\n'"
      ]
     },
     "execution_count": 3,
     "metadata": {},
     "output_type": "execute_result"
    }
   ],
   "source": [
    "'''\n",
    "QuickReply篇\n",
    "\n",
    "使用流程\n",
    "\n",
    "準備QuickReply的Button\n",
    "\n",
    "以QuickReply封裝該些QuickReply Button\n",
    "\n",
    "製作TextSendMessage，並將剛封裝的QuickReply放入\n",
    "\n",
    "'''"
   ]
  },
  {
   "cell_type": "code",
   "execution_count": 4,
   "metadata": {},
   "outputs": [],
   "source": [
    "'''\n",
    "\n",
    "準備QuickReply的Button\n",
    "\n",
    "\n",
    "'''\n",
    "\n",
    "# 引入相關套件\n",
    "from linebot.models import (\n",
    "    MessageAction, URIAction,\n",
    "    PostbackAction, DatetimePickerAction,\n",
    "    CameraAction, CameraRollAction, LocationAction,\n",
    "    QuickReply, QuickReplyButton\n",
    ")\n",
    "\n",
    "# 創建QuickReplyButton \n",
    "\n",
    "## 點擊後，以用戶身份發送文字消息\n",
    "## MessageAction\n",
    "textQuickReplyButton = QuickReplyButton(\n",
    "    action=MessageAction(\n",
    "        label=\"發送文字消息\", \n",
    "        text=\"text2\"\n",
    "    )\n",
    ")\n",
    "\n",
    "## 點擊後，彈跳出選擇時間之視窗\n",
    "## DatetimePickerAction\n",
    "dateQuickReplyButton = QuickReplyButton(\n",
    "    action=DatetimePickerAction(\n",
    "        label=\"時間選擇\",\n",
    "        data=\"data3\",                       \n",
    "        mode=\"date\"\n",
    "    )\n",
    ")\n",
    "\n",
    "\n",
    "## 點擊後，開啟相機\n",
    "## CameraAction\n",
    "cameraQuickReplyButton = QuickReplyButton(\n",
    "    action=CameraAction(label=\"拍照\")\n",
    ")\n",
    "\n",
    "## 點擊後，切換至照片相簿選擇\n",
    "cameraRollQRB = QuickReplyButton(\n",
    "    action=CameraRollAction(label=\"選擇照片\")\n",
    ")\n",
    "\n",
    "## 點擊後，跳出地理位置\n",
    "locationQRB = QuickReplyButton(\n",
    "    action=LocationAction(label=\"地理位置\")\n",
    ")\n",
    "\n",
    "## 點擊後，以Postback事件回應Server \n",
    "postbackQRB = QuickReplyButton(\n",
    "    action=PostbackAction(label=\"我是PostbackEvent\", data=\"data1\")\n",
    ")"
   ]
  },
  {
   "cell_type": "code",
   "execution_count": 5,
   "metadata": {},
   "outputs": [],
   "source": [
    "'''\n",
    "\n",
    "以QuickReply封裝該些QuickReply Button\n",
    "\n",
    "'''\n",
    "## 設計QuickReplyButton的List\n",
    "quickReplyList = QuickReply(\n",
    "    items = [textQuickReplyButton, dateQuickReplyButton, cameraQuickReplyButton, cameraRollQRB, locationQRB,postbackQRB]\n",
    ")"
   ]
  },
  {
   "cell_type": "code",
   "execution_count": 6,
   "metadata": {},
   "outputs": [],
   "source": [
    "'''\n",
    "\n",
    "製作TextSendMessage，並將剛封裝的QuickReply放入\n",
    "\n",
    "'''\n",
    "## 將quickReplyList 塞入TextSendMessage 中 \n",
    "from linebot.models import (\n",
    "    TextSendMessage,\n",
    ")\n",
    "quickReplyTextSendMessage = TextSendMessage(text='發送問題給用戶，請用戶回答', quick_reply=quickReplyList)"
   ]
  },
  {
   "cell_type": "code",
   "execution_count": 7,
   "metadata": {},
   "outputs": [],
   "source": [
    "'''\n",
    "設計一個字典\n",
    "\n",
    "'''\n",
    "template_message_dict = {\n",
    "    \"1\":quickReplyTextSendMessage\n",
    "}"
   ]
  },
  {
   "cell_type": "code",
   "execution_count": 8,
   "metadata": {},
   "outputs": [],
   "source": [
    "'''\n",
    "用戶發送文字消息時，會按此進行消息處理\n",
    "\n",
    "'''\n",
    "\n",
    "# 用戶發出文字消息時， 按條件內容, 回傳合適消息\n",
    "@handler.add(MessageEvent, message=TextMessage)\n",
    "def handle_message(event):\n",
    "    line_bot_api.reply_message(\n",
    "        event.reply_token,\n",
    "        template_message_dict.get(event.message.text)\n",
    "    )"
   ]
  },
  {
   "cell_type": "code",
   "execution_count": null,
   "metadata": {
    "scrolled": true
   },
   "outputs": [
    {
     "name": "stderr",
     "output_type": "stream",
     "text": [
      " * Running on http://0.0.0.0:5000/ (Press CTRL+C to quit)\n",
      "172.17.0.3 - - [29/Apr/2019 09:52:42] \"POST / HTTP/1.1\" 200 -\n"
     ]
    }
   ],
   "source": [
    "'''\n",
    "\n",
    "啟動Server\n",
    "\n",
    "'''\n",
    "if __name__ == \"__main__\":\n",
    "    app.run(host='0.0.0.0')"
   ]
  },
  {
   "cell_type": "code",
   "execution_count": null,
   "metadata": {},
   "outputs": [],
   "source": []
  }
 ],
 "metadata": {
  "kernelspec": {
   "display_name": "Python 3",
   "language": "python",
   "name": "python3"
  },
  "language_info": {
   "codemirror_mode": {
    "name": "ipython",
    "version": 3
   },
   "file_extension": ".py",
   "mimetype": "text/x-python",
   "name": "python",
   "nbconvert_exporter": "python",
   "pygments_lexer": "ipython3",
   "version": "3.7.1"
  }
 },
 "nbformat": 4,
 "nbformat_minor": 2
}
