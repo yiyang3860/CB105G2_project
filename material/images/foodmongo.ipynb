{
 "cells": [
  {
   "cell_type": "code",
   "execution_count": null,
   "metadata": {},
   "outputs": [],
   "source": [
    "#1\n",
    "\n",
    "result_list = []\n",
    "conn = pymongo.MongoClient(\"192.168.33.200\", 27017)\n",
    "db = conn.test\n",
    "collection = db.test\n",
    "# collection.insert_one(content)\n",
    "result = collection.find({\"foodtype\": \"Taiwan\"})\n",
    "for r in result:\n",
    "    result_list.append(r)\n",
    "import random\n",
    "choose = random.sample(range(1, 5), 3)\n",
    "for n in choose:\n",
    "    print(result_list[n])\n",
    "\n",
    "\n",
    "\n",
    "conn.close()"
   ]
  },
  {
   "cell_type": "code",
   "execution_count": null,
   "metadata": {},
   "outputs": [],
   "source": [
    "#2\n",
    "\n",
    "import pymongo\n",
    "import random\n",
    "c = \"韓式\"\n",
    "obj = \"洋蔥\"\n",
    "\n",
    "with open(\"rr.csv\", \"r\", encoding=\"utf-8\") as f:\n",
    "    res = f.readline()\n",
    "    print(res)\n",
    "\n",
    "result_list = []\n",
    "output_list = []\n",
    "conn = pymongo.MongoClient(\"192.168.33.144\", 27017)\n",
    "db = conn.recipe\n",
    "collection = db.images.files\n",
    "# collection.insert_one(content)\n",
    "result = collection.find({\"菜式\": res})\n",
    "for r in result:\n",
    "    result_list.append(r)\n",
    "\n",
    "for s in result_list:\n",
    "    if obj in result_list:\n",
    "        output_list.append(s)\n",
    "\n",
    "if len(output_list) <3:\n",
    "    choose = random.sample(range(1, len(result_list)), 3 - len(output_list))\n",
    "    for n in choose:\n",
    "        output_list.append(result_list[n])\n",
    "\n",
    "\n",
    "# choose = random.sample(range(1, 5), 3)\n",
    "# for n in choose:\n",
    "#     output_list.append(result_list[n])\n",
    "\n",
    "conn.close()\n",
    "\n",
    "for i in output_list:\n",
    "    name = i[\"食譜\"]\n",
    "    ingredient = i[\"食材\"]\n",
    "    img = i[\"食譜照\"]\n",
    "    html = i[\"食譜連結\"]\n",
    "    print(name, ingredient, img, html)"
   ]
  }
 ],
 "metadata": {
  "kernelspec": {
   "display_name": "Python 3",
   "language": "python",
   "name": "python3"
  },
  "language_info": {
   "codemirror_mode": {
    "name": "ipython",
    "version": 3
   },
   "file_extension": ".py",
   "mimetype": "text/x-python",
   "name": "python",
   "nbconvert_exporter": "python",
   "pygments_lexer": "ipython3",
   "version": "3.7.1"
  }
 },
 "nbformat": 4,
 "nbformat_minor": 2
}
