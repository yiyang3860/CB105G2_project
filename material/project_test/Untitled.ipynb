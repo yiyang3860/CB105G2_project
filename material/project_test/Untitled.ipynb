{
 "cells": [
  {
   "cell_type": "code",
   "execution_count": 1,
   "metadata": {},
   "outputs": [],
   "source": [
    "from flask import Flask, render_template, redirect, request, url_for, flash\n",
    "app = Flask(__name__)\n",
    "\n",
    "@app.route('/')\n",
    "def hello_world():\n",
    "    return 'Hello, World!'\n",
    "\n",
    "# @app.route('/hello/<username>')\n",
    "# def hello(username):\n",
    "#     return render_template('hello.html', username=username)\n",
    "\n",
    "# @app.route('/para/<user>')\n",
    "# def index(user):\n",
    "#     return render_template('abc.html', user_template=user)\n",
    "\n",
    "# @app.route('/login', methods=['GET', 'POST'])\n",
    "# def login():\n",
    "#     if request.method == 'POST':\n",
    "#         return 'Hello ' + request.values['username']\n",
    "#\n",
    "#     return \"<form method='post' action='/login'><input type='text' name='username' />\" \\\n",
    "#             \"</br>\" \\\n",
    "#            \"<button type='submit'>Submit</button></form>\"\n",
    "\n",
    "# @app.route('/loginurl', methods=['GET', 'POST'])\n",
    "# def login():\n",
    "#     if request.method == 'POST':\n",
    "#         if login_check(request.form['username'], request.form['password']):\n",
    "#             flash('Login Success!')\n",
    "#             return redirect(url_for('hello', username=request.form.get('username')))\n",
    "#     return render_template('login.html')\n",
    "\n",
    "# def login_check(username, password):\n",
    "#     \"\"\"登入帳號密碼檢核\"\"\"\n",
    "#     if username == 'admin' and password == 'hello':\n",
    "#         return True\n",
    "#     else:\n",
    "#         return False\n",
    "\n",
    "# @app.route('/upload', methods=['GET', 'POST'])\n",
    "# def upload_file():\n",
    "#     if request.method == 'POST':\n",
    "#         f = request.files['the_file']\n",
    "#         f.save('/var/www/uploads/uploaded_file.txt')\n",
    "\n"
   ]
  },
  {
   "cell_type": "code",
   "execution_count": null,
   "metadata": {
    "scrolled": true
   },
   "outputs": [
    {
     "name": "stderr",
     "output_type": "stream",
     "text": [
      " * Running on http://0.0.0.0:5000/ (Press CTRL+C to quit)\n"
     ]
    }
   ],
   "source": [
    "if __name__ == '__main__':\n",
    "    app.run(host='0.0.0.0')"
   ]
  },
  {
   "cell_type": "code",
   "execution_count": null,
   "metadata": {},
   "outputs": [],
   "source": [
    "%tb"
   ]
  }
 ],
 "metadata": {
  "kernelspec": {
   "display_name": "Python 3",
   "language": "python",
   "name": "python3"
  },
  "language_info": {
   "codemirror_mode": {
    "name": "ipython",
    "version": 3
   },
   "file_extension": ".py",
   "mimetype": "text/x-python",
   "name": "python",
   "nbconvert_exporter": "python",
   "pygments_lexer": "ipython3",
   "version": "3.7.1"
  }
 },
 "nbformat": 4,
 "nbformat_minor": 2
}
