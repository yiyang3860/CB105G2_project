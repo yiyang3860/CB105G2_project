{
 "cells": [
  {
   "cell_type": "code",
   "execution_count": 1,
   "metadata": {},
   "outputs": [
    {
     "data": {
      "text/plain": [
       "'\\n\\n展示 \\n\\n對用戶進行消息推播\\n\\n推播消息為 Line火紅的照片地圖功能\\n\\n當用戶點擊照片地圖時，會跳轉到Line的特殊功能，撥號與定位\\n\\n'"
      ]
     },
     "execution_count": 1,
     "metadata": {},
     "output_type": "execute_result"
    }
   ],
   "source": [
    "'''\n",
    "\n",
    "展示 \n",
    "\n",
    "對用戶進行消息推播\n",
    "\n",
    "推播消息為 Line火紅的照片地圖功能\n",
    "\n",
    "當用戶點擊照片地圖時，會跳轉到Line的特殊功能，撥號與定位\n",
    "\n",
    "'''"
   ]
  },
  {
   "cell_type": "code",
   "execution_count": 2,
   "metadata": {},
   "outputs": [],
   "source": [
    "\"\"\"\n",
    "\n",
    "啟用伺服器基本樣板\n",
    "\n",
    "\"\"\"\n",
    "# 引用Web Server套件\n",
    "from flask import Flask, request, abort\n",
    "\n",
    "# 從linebot 套件包裡引用 LineBotApi 與 WebhookHandler 類別\n",
    "from linebot import (\n",
    "    LineBotApi, WebhookHandler\n",
    ")\n",
    "\n",
    "# \n",
    "from linebot.exceptions import (\n",
    "    InvalidSignatureError\n",
    ")\n",
    "\n",
    "# 將消息模型，文字收取消息與文字寄發消息 引入\n",
    "from linebot.models import (\n",
    "    MessageEvent, TextMessage, TextSendMessage,\n",
    ")\n",
    "\n",
    "# 載入設定檔\n",
    "\n",
    "import json\n",
    "secretFileContentJson=json.load(open(\"../line_secret_key\",'r'))\n",
    "server_url=secretFileContentJson.get(\"server_url\")\n",
    "\n",
    "\n",
    "# 設定Server啟用細節\n",
    "app = Flask(__name__,static_url_path = \"/images\" , static_folder = \"../images/\" )\n",
    "\n",
    "# 生成實體物件\n",
    "line_bot_api = LineBotApi(secretFileContentJson.get(\"channel_access_token\"))\n",
    "handler = WebhookHandler(secretFileContentJson.get(\"secret_key\"))\n",
    "\n",
    "# 啟動server對外接口，使Line能丟消息進來\n",
    "@app.route(\"/\", methods=['POST'])\n",
    "def callback():\n",
    "    # get X-Line-Signature header value\n",
    "    signature = request.headers['X-Line-Signature']\n",
    "\n",
    "    # get request body as text\n",
    "    body = request.get_data(as_text=True)\n",
    "    app.logger.info(\"Request body: \" + body)\n",
    "\n",
    "    # handle webhook body\n",
    "    try:\n",
    "        handler.handle(body, signature)\n",
    "    except InvalidSignatureError:\n",
    "        abort(400)\n",
    "\n",
    "    return 'OK'\n"
   ]
  },
  {
   "cell_type": "code",
   "execution_count": 3,
   "metadata": {},
   "outputs": [],
   "source": [
    "'''\n",
    "\n",
    "新增照片地圖素材\n",
    "\n",
    "並融合先前所教的 進階撥號與地理定位功能\n",
    "\n",
    "'''\n",
    "\n",
    "from linebot.models import ImagemapSendMessage\n",
    "\n",
    "from linebot.models import (\n",
    "    ImagemapArea, BaseSize, URIImagemapAction, MessageImagemapAction\n",
    ")\n",
    "\n",
    "imagemap_message = ImagemapSendMessage(\n",
    "    base_url='https://%s/images/blockchain'%server_url,\n",
    "    alt_text='區塊鏈照片地圖',\n",
    "    base_size=BaseSize(height=1040, width=1040),\n",
    "    actions=[\n",
    "        URIImagemapAction(\n",
    "            link_uri='line://calls',\n",
    "            area=ImagemapArea(\n",
    "                x=0, y=0, width=520, height=1040\n",
    "            )\n",
    "        ),\n",
    "        URIImagemapAction(\n",
    "            link_uri='line://nv/location',\n",
    "            area=ImagemapArea(\n",
    "                x=520, y=0, width=520, height=1040\n",
    "            )\n",
    "        )\n",
    "    ]\n",
    ")    "
   ]
  },
  {
   "cell_type": "code",
   "execution_count": null,
   "metadata": {},
   "outputs": [],
   "source": [
    "'''\n",
    "\n",
    "設定一個Server入口，\n",
    "\n",
    "當有人訪問此入口，會對用戶進行消息推播\n",
    "\n",
    "將上面設計的imagemap消息，推播給用戶\n",
    "\n",
    "'''\n",
    "@app.route(\"/pushMessage\", methods=['GET'])\n",
    "def push_message():\n",
    "    \n",
    "    json_object_strings = open(\"../users.txt\",'r')\n",
    "    json_array = []\n",
    "    user_id_array = []\n",
    "    \n",
    "    for json_object_string in json_object_strings:\n",
    "        json_object = json.loads(json_object_string)\n",
    "        json_array.append(json_object)\n",
    "    \n",
    "    for user_record in json_array:\n",
    "        user_id_array.append(user_record.get(\"user_id\"))\n",
    "    \n",
    "    line_bot_api.multicast(\n",
    "        user_id_array,\n",
    "        imagemap_message\n",
    "    )\n",
    "\n",
    "    return 'OK'"
   ]
  },
  {
   "cell_type": "code",
   "execution_count": null,
   "metadata": {},
   "outputs": [
    {
     "name": "stderr",
     "output_type": "stream",
     "text": [
      " * Running on http://0.0.0.0:5000/ (Press CTRL+C to quit)\n"
     ]
    }
   ],
   "source": [
    "'''\n",
    "\n",
    "執行此句，啟動Server，觀察後，按左上方塊，停用Server\n",
    "\n",
    "'''\n",
    "\n",
    "if __name__ == \"__main__\":\n",
    "    app.run(host='0.0.0.0')"
   ]
  }
 ],
 "metadata": {
  "kernelspec": {
   "display_name": "Python 3",
   "language": "python",
   "name": "python3"
  },
  "language_info": {
   "codemirror_mode": {
    "name": "ipython",
    "version": 3
   },
   "file_extension": ".py",
   "mimetype": "text/x-python",
   "name": "python",
   "nbconvert_exporter": "python",
   "pygments_lexer": "ipython3",
   "version": "3.7.1"
  }
 },
 "nbformat": 4,
 "nbformat_minor": 2
}
